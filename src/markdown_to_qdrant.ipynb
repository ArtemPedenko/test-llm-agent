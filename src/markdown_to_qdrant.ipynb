{
 "cells": [
  {
   "cell_type": "markdown",
   "metadata": {},
   "source": [
    "# Обработка Markdown и сохранение эмбеддингов в Qdrant\n",
    "\n",
    "Этот ноутбук выполняет следующие шаги:\n",
    "\n",
    "1. Парсит Markdown-файлы с вопросами и ответами.\n",
    "2. Генерирует эмбеддинги с использованием модели `intfloat/multilingual-e5-large`.\n",
    "3. Сохраняет эмбеддинги в векторную базу Qdrant для использования в ассистенте.\n",
    "\n",
    "## Требования\n",
    "\n",
    "- Установите зависимости: `pip install sentence-transformers qdrant-client`\n",
    "- Запустите Qdrant: `docker run -p 6333:6333 qdrant/qdrant`\n",
    "- Укажите путь к папке с Markdown-файлами в переменной `MD_DIRECTORY`.\n"
   ]
  },
  {
   "cell_type": "code",
   "execution_count": null,
   "metadata": {},
   "outputs": [],
   "source": [
    "# Установка зависимостей (если требуется)\n",
    "%pip install sentence-transformers qdrant-client"
   ]
  },
  {
   "cell_type": "code",
   "execution_count": null,
   "metadata": {},
   "outputs": [],
   "source": [
    "# Импорт библиотек\n",
    "import os\n",
    "import re\n",
    "from typing import List, Dict\n",
    "from sentence_transformers import SentenceTransformer\n",
    "from qdrant_client import QdrantClient\n",
    "from qdrant_client.http import models\n",
    "\n",
    "# Конфигурация\n",
    "MD_DIRECTORY = '../rag_files'  # Путь к папке с Markdown-файлами\n",
    "COLLECTION_NAME = 'test_questions'  # Имя коллекции в Qdrant\n",
    "MODEL_NAME = 'intfloat/multilingual-e5-large'  #модель для эмбеддингов\n",
    "MODEL_PATH = './embendings_model' #путь до модели"
   ]
  },
  {
   "cell_type": "markdown",
   "metadata": {},
   "source": [
    "## Парсинг Markdown-файлов\n",
    "\n",
    "Функция `parse_md_files` читает Markdown-файлы и разделяет их на вопросы и ответы по заголовкам уровня 2 (`##`).\n"
   ]
  },
  {
   "cell_type": "code",
   "execution_count": null,
   "metadata": {},
   "outputs": [],
   "source": [
    "def parse_md_files(directory: str) -> List[Dict[str, str]]:\n",
    "    \"\"\"\n",
    "    Читает Markdown-файлы и разделяет их на вопросы и ответы.\n",
    "    Возвращает список словарей с текстом, вопросом, ответом и метаданными.\n",
    "    \"\"\"\n",
    "    chunks = []\n",
    "    for filename in os.listdir(directory):\n",
    "        if filename.endswith('.md'):\n",
    "            file_path = os.path.join(directory, filename)\n",
    "            with open(file_path, 'r', encoding='utf-8') as f:\n",
    "                content = f.read()\n",
    "                # Разделяем на секции по заголовкам уровня 2 (##)\n",
    "                sections = re.split(r'^##\\s+', content, flags=re.MULTILINE)[1:]\n",
    "                questions = [s.split('\\n', 1)[0].strip() for s in sections]\n",
    "                answers = [s.split('\\n', 1)[1].strip() for s in sections]\n",
    "\n",
    "                for i, (question, answer) in enumerate(zip(questions, answers)):\n",
    "                    if question and answer:\n",
    "                        chunks.append({\n",
    "                            'question': question,\n",
    "                            'answer': answer,\n",
    "                            'text': f'Вопрос: {question}\\nОтвет: {answer}',\n",
    "                            'source': filename,\n",
    "                            'chunk_id': f'{filename}_{i}',\n",
    "                            'metadata': {'question': question}\n",
    "                        })\n",
    "    return chunks\n",
    "\n",
    "# Выполняем парсинг и выводим первые 3 фрагмента для проверки\n",
    "chunks = parse_md_files(MD_DIRECTORY)\n",
    "for chunk in chunks[:3]:\n",
    "    print(f\"Chunk ID: {chunk['chunk_id']}, Question: {chunk['question'][:50]}..., Answer: {chunk['answer'][:50]}...\")"
   ]
  },
  {
   "cell_type": "markdown",
   "metadata": {},
   "source": [
    "## Загрузка модели для эмбендингов\n"
   ]
  },
  {
   "cell_type": "code",
   "execution_count": null,
   "metadata": {},
   "outputs": [],
   "source": [
    "from sentence_transformers import SentenceTransformer\n",
    "\n",
    "# Загружаем модель из Hugging Face\n",
    "model = SentenceTransformer(MODEL_NAME)\n",
    "\n",
    "# Сохраняем локально\n",
    "model.save(MODEL_PATH)\n"
   ]
  },
  {
   "cell_type": "markdown",
   "metadata": {},
   "source": [
    "## Генерация эмбеддингов и сохранение в Qdrant\n",
    "\n",
    "Функция `vectorize_and_store` генерирует эмбеддинги и сохраняет их в Qdrant.\n"
   ]
  },
  {
   "cell_type": "code",
   "execution_count": null,
   "metadata": {},
   "outputs": [],
   "source": [
    "import uuid\n",
    "\n",
    "def vectorize_and_store(directory: str, collection_name: str):\n",
    "    # Инициализация модели из локального пути\n",
    "    model = SentenceTransformer(MODEL_PATH)\n",
    "\n",
    "    # Инициализация Qdrant\n",
    "    client = QdrantClient('localhost', port=6333)\n",
    "\n",
    "    # Проверяем существование коллекции\n",
    "    if not client.collection_exists(collection_name):\n",
    "        client.create_collection(\n",
    "            collection_name=collection_name,\n",
    "            vectors_config=models.VectorParams(size=1024, distance=models.Distance.COSINE)\n",
    "        )\n",
    "\n",
    "    # Получаем фрагменты\n",
    "    chunks = parse_md_files(directory)\n",
    "\n",
    "    # Генерируем эмбеддинги и сохраняем\n",
    "    for chunk in chunks:\n",
    "        embedding = model.encode(chunk['text'], convert_to_tensor=False).tolist()\n",
    "        client.upsert(\n",
    "            collection_name=collection_name,\n",
    "            points=[\n",
    "                models.PointStruct(\n",
    "                    id=str(uuid.uuid4()),\n",
    "                    vector=embedding,\n",
    "                    payload={\n",
    "                        'question': chunk['question'],\n",
    "                        'answer': chunk['answer'],\n",
    "                        'text': chunk['text'],\n",
    "                        'source': chunk['source'],\n",
    "                        'metadata': chunk['metadata']\n",
    "                    }\n",
    "                )\n",
    "            ]\n",
    "        )\n",
    "    print(f'Сохранено {len(chunks)} фрагментов в коллекцию \"{collection_name}\"')\n",
    "\n",
    "# Выполняем генерацию и сохранение\n",
    "vectorize_and_store(MD_DIRECTORY, COLLECTION_NAME)"
   ]
  },
  {
   "cell_type": "markdown",
   "metadata": {},
   "source": [
    "## Тестирование\n",
    "\n",
    "Проверяем, как работает поиск по сохраненным эмбеддингам.\n"
   ]
  },
  {
   "cell_type": "code",
   "execution_count": null,
   "metadata": {},
   "outputs": [],
   "source": [
    "# Тестовый поиск\n",
    "model = SentenceTransformer(MODEL_NAME)\n",
    "client = QdrantClient('localhost', port=6333)\n",
    "\n",
    "query = 'Как отменить заказ?'\n",
    "query_embedding = model.encode(query, convert_to_tensor=False).tolist()\n",
    "\n",
    "search_results = client.search(\n",
    "    collection_name=COLLECTION_NAME,\n",
    "    query_vector=query_embedding,\n",
    "    limit=3\n",
    ")\n",
    "\n",
    "for result in search_results:\n",
    "    print(f\"Score: {result.score:.4f}, Text: {result.payload['text'][:100]}...\")"
   ]
  }
 ],
 "metadata": {
  "kernelspec": {
   "display_name": "venv",
   "language": "python",
   "name": "python3"
  },
  "language_info": {
   "codemirror_mode": {
    "name": "ipython",
    "version": 3
   },
   "file_extension": ".py",
   "mimetype": "text/x-python",
   "name": "python",
   "nbconvert_exporter": "python",
   "pygments_lexer": "ipython3",
   "version": "3.9.6"
  }
 },
 "nbformat": 4,
 "nbformat_minor": 4
}
